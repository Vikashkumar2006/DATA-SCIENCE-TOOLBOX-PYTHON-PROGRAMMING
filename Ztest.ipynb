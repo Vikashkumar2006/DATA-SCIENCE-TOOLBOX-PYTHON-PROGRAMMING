{
 "cells": [
  {
   "cell_type": "code",
   "execution_count": 1,
   "id": "8b0f0ad1-3121-4668-ace8-b94ec575b26c",
   "metadata": {},
   "outputs": [],
   "source": [
    "#A company claims to produce ball bearing of 10 cm diameter (null hypothesis), and you decide to audit if that is true.You collect 21 ball bearings from multiple shops around the city and measure their diameter.You must determine if the company's claim false(alternative hypothesis)\n",
    "#based on the measurement.Sample mean 11 cm and S.D. is 1 cm."
   ]
  },
  {
   "cell_type": "code",
   "execution_count": 8,
   "id": "26ce71b1-4b50-4768-ac53-5c5eea45c999",
   "metadata": {},
   "outputs": [],
   "source": [
    "import numpy as np\n",
    "import pandas as pd\n",
    "from scipy import stats"
   ]
  },
  {
   "cell_type": "code",
   "execution_count": 9,
   "id": "d9325fe3-4e7b-4e2e-b9af-f6227bf12173",
   "metadata": {},
   "outputs": [
    {
     "data": {
      "text/plain": [
       "array([10.3662025 , 11.54136914, 13.32746506, 10.05789816,  9.85442646,\n",
       "       13.23618995, 11.47075028, 11.58673886,  8.19590358, 10.92104332,\n",
       "       11.12715274,  9.94813534, 11.77525293, 10.93909991,  9.62699717,\n",
       "       12.51479455, 13.05483777, 12.98552015, 12.40987613,  9.54987273,\n",
       "       11.97114291])"
      ]
     },
     "execution_count": 9,
     "metadata": {},
     "output_type": "execute_result"
    }
   ],
   "source": [
    "Pop_mean=10\n",
    "n1=21\n",
    "# dof=n1-1\n",
    "sample=np.random.randn(n1)+11\n",
    "sample"
   ]
  },
  {
   "cell_type": "code",
   "execution_count": 10,
   "id": "fd42b00f-919d-4f83-8e8a-5bb2698efc1f",
   "metadata": {},
   "outputs": [],
   "source": [
    "t_stat, p_val=stats.ttest_1samp(a=sample,popmean=Pop_mean)"
   ]
  },
  {
   "cell_type": "code",
   "execution_count": 11,
   "id": "e4e7401f-e842-4343-bd72-ee81cbc89bc1",
   "metadata": {},
   "outputs": [
    {
     "data": {
      "text/plain": [
       "np.float64(4.112226449958245)"
      ]
     },
     "execution_count": 11,
     "metadata": {},
     "output_type": "execute_result"
    }
   ],
   "source": [
    "t_stat"
   ]
  },
  {
   "cell_type": "code",
   "execution_count": 12,
   "id": "0d23fd7f-8600-41bc-8757-588659f590d8",
   "metadata": {},
   "outputs": [
    {
     "data": {
      "text/plain": [
       "np.float64(0.0005411279474961)"
      ]
     },
     "execution_count": 12,
     "metadata": {},
     "output_type": "execute_result"
    }
   ],
   "source": [
    "p_val"
   ]
  },
  {
   "cell_type": "code",
   "execution_count": 13,
   "id": "8d8e7d0f-7b90-4da7-937f-b6808d2e9bfe",
   "metadata": {},
   "outputs": [
    {
     "ename": "AttributeError",
     "evalue": "module 'scipy.stats' has no attribute 'ttest_1amp'",
     "output_type": "error",
     "traceback": [
      "\u001b[1;31m---------------------------------------------------------------------------\u001b[0m",
      "\u001b[1;31mAttributeError\u001b[0m                            Traceback (most recent call last)",
      "Cell \u001b[1;32mIn[13], line 4\u001b[0m\n\u001b[0;32m      2\u001b[0m Pop_mean\u001b[38;5;241m=\u001b[39m\u001b[38;5;241m10\u001b[39m\n\u001b[0;32m      3\u001b[0m n2\u001b[38;5;241m=\u001b[39m\u001b[38;5;241m6\u001b[39m\n\u001b[1;32m----> 4\u001b[0m tstat,pval\u001b[38;5;241m=\u001b[39m\u001b[43mstats\u001b[49m\u001b[38;5;241;43m.\u001b[39;49m\u001b[43mttest_1amp\u001b[49m(hours_study,Pop_mean)\n\u001b[0;32m      5\u001b[0m pval\n",
      "\u001b[1;31mAttributeError\u001b[0m: module 'scipy.stats' has no attribute 'ttest_1amp'"
     ]
    }
   ],
   "source": [
    "hours_study=[10,8,7,8.5,7,10]\n",
    "Pop_mean=10\n",
    "n2=6\n",
    "tstat,pval=stats.ttest_1amp(hours_study,Pop_mean)\n",
    "pval\n"
   ]
  },
  {
   "cell_type": "code",
   "execution_count": null,
   "id": "26c43b9f-5903-422d-ac40-939b0d57fd3f",
   "metadata": {},
   "outputs": [],
   "source": []
  }
 ],
 "metadata": {
  "kernelspec": {
   "display_name": "Python 3 (ipykernel)",
   "language": "python",
   "name": "python3"
  },
  "language_info": {
   "codemirror_mode": {
    "name": "ipython",
    "version": 3
   },
   "file_extension": ".py",
   "mimetype": "text/x-python",
   "name": "python",
   "nbconvert_exporter": "python",
   "pygments_lexer": "ipython3",
   "version": "3.12.2"
  }
 },
 "nbformat": 4,
 "nbformat_minor": 5
}
