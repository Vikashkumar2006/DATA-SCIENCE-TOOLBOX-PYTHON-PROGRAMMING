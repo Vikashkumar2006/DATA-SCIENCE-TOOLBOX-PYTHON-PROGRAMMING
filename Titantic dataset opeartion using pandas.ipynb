{
 "cells": [
  {
   "cell_type": "code",
   "execution_count": 18,
   "id": "f2e02cd3-958f-48ff-abfc-6d0733a985ff",
   "metadata": {},
   "outputs": [],
   "source": [
    "import os\n",
    "import pandas as pd"
   ]
  },
  {
   "cell_type": "code",
   "execution_count": 4,
   "id": "fe53787f-efce-4e34-96a5-a05f16414cfd",
   "metadata": {},
   "outputs": [
    {
     "name": "stdout",
     "output_type": "stream",
     "text": [
      "C:\\Users\\Vikash Singh\n"
     ]
    }
   ],
   "source": [
    "c=os.getcwd()\n",
    "print(c)"
   ]
  },
  {
   "cell_type": "code",
   "execution_count": 19,
   "id": "5b882816-ae28-4e08-ab33-3b657c5fe7e5",
   "metadata": {},
   "outputs": [],
   "source": [
    "titanic=pd.read_csv(\"TITANIC1.csv\")"
   ]
  },
  {
   "cell_type": "code",
   "execution_count": 20,
   "id": "c618e73b-e111-4741-9c40-90949be0f5cc",
   "metadata": {},
   "outputs": [
    {
     "data": {
      "text/html": [
       "<div>\n",
       "<style scoped>\n",
       "    .dataframe tbody tr th:only-of-type {\n",
       "        vertical-align: middle;\n",
       "    }\n",
       "\n",
       "    .dataframe tbody tr th {\n",
       "        vertical-align: top;\n",
       "    }\n",
       "\n",
       "    .dataframe thead th {\n",
       "        text-align: right;\n",
       "    }\n",
       "</style>\n",
       "<table border=\"1\" class=\"dataframe\">\n",
       "  <thead>\n",
       "    <tr style=\"text-align: right;\">\n",
       "      <th></th>\n",
       "      <th>Passenger_id</th>\n",
       "      <th>Name</th>\n",
       "      <th>PClass</th>\n",
       "      <th>Age</th>\n",
       "      <th>Gender</th>\n",
       "      <th>Survived</th>\n",
       "      <th>GenderCode</th>\n",
       "    </tr>\n",
       "  </thead>\n",
       "  <tbody>\n",
       "    <tr>\n",
       "      <th>0</th>\n",
       "      <td>1</td>\n",
       "      <td>Allen, Miss Elisabeth Walton</td>\n",
       "      <td>1st</td>\n",
       "      <td>29.00</td>\n",
       "      <td>female</td>\n",
       "      <td>1</td>\n",
       "      <td>1</td>\n",
       "    </tr>\n",
       "    <tr>\n",
       "      <th>1</th>\n",
       "      <td>2</td>\n",
       "      <td>Allison, Miss Helen Loraine</td>\n",
       "      <td>1st</td>\n",
       "      <td>2.00</td>\n",
       "      <td>female</td>\n",
       "      <td>0</td>\n",
       "      <td>1</td>\n",
       "    </tr>\n",
       "    <tr>\n",
       "      <th>2</th>\n",
       "      <td>3</td>\n",
       "      <td>Allison, Mr Hudson Joshua Creighton</td>\n",
       "      <td>1st</td>\n",
       "      <td>30.00</td>\n",
       "      <td>male</td>\n",
       "      <td>0</td>\n",
       "      <td>0</td>\n",
       "    </tr>\n",
       "    <tr>\n",
       "      <th>3</th>\n",
       "      <td>4</td>\n",
       "      <td>Allison, Mrs Hudson JC (Bessie Waldo Daniels)</td>\n",
       "      <td>1st</td>\n",
       "      <td>25.00</td>\n",
       "      <td>female</td>\n",
       "      <td>0</td>\n",
       "      <td>1</td>\n",
       "    </tr>\n",
       "    <tr>\n",
       "      <th>4</th>\n",
       "      <td>5</td>\n",
       "      <td>Allison, Master Hudson Trevor</td>\n",
       "      <td>1st</td>\n",
       "      <td>0.92</td>\n",
       "      <td>male</td>\n",
       "      <td>1</td>\n",
       "      <td>0</td>\n",
       "    </tr>\n",
       "  </tbody>\n",
       "</table>\n",
       "</div>"
      ],
      "text/plain": [
       "   Passenger_id                                           Name PClass    Age  \\\n",
       "0             1                   Allen, Miss Elisabeth Walton    1st  29.00   \n",
       "1             2                    Allison, Miss Helen Loraine    1st   2.00   \n",
       "2             3            Allison, Mr Hudson Joshua Creighton    1st  30.00   \n",
       "3             4  Allison, Mrs Hudson JC (Bessie Waldo Daniels)    1st  25.00   \n",
       "4             5                  Allison, Master Hudson Trevor    1st   0.92   \n",
       "\n",
       "   Gender  Survived  GenderCode  \n",
       "0  female         1           1  \n",
       "1  female         0           1  \n",
       "2    male         0           0  \n",
       "3  female         0           1  \n",
       "4    male         1           0  "
      ]
     },
     "execution_count": 20,
     "metadata": {},
     "output_type": "execute_result"
    }
   ],
   "source": [
    "titanic.head()"
   ]
  },
  {
   "cell_type": "code",
   "execution_count": 21,
   "id": "9db1093e-bff2-44de-87b5-fd81df996c33",
   "metadata": {},
   "outputs": [
    {
     "data": {
      "text/html": [
       "<div>\n",
       "<style scoped>\n",
       "    .dataframe tbody tr th:only-of-type {\n",
       "        vertical-align: middle;\n",
       "    }\n",
       "\n",
       "    .dataframe tbody tr th {\n",
       "        vertical-align: top;\n",
       "    }\n",
       "\n",
       "    .dataframe thead th {\n",
       "        text-align: right;\n",
       "    }\n",
       "</style>\n",
       "<table border=\"1\" class=\"dataframe\">\n",
       "  <thead>\n",
       "    <tr style=\"text-align: right;\">\n",
       "      <th></th>\n",
       "      <th>Passenger_id</th>\n",
       "      <th>Name</th>\n",
       "      <th>PClass</th>\n",
       "      <th>Age</th>\n",
       "      <th>Gender</th>\n",
       "      <th>Survived</th>\n",
       "      <th>GenderCode</th>\n",
       "    </tr>\n",
       "  </thead>\n",
       "  <tbody>\n",
       "    <tr>\n",
       "      <th>0</th>\n",
       "      <td>1</td>\n",
       "      <td>Allen, Miss Elisabeth Walton</td>\n",
       "      <td>1st</td>\n",
       "      <td>29.00</td>\n",
       "      <td>female</td>\n",
       "      <td>1</td>\n",
       "      <td>1</td>\n",
       "    </tr>\n",
       "    <tr>\n",
       "      <th>1</th>\n",
       "      <td>2</td>\n",
       "      <td>Allison, Miss Helen Loraine</td>\n",
       "      <td>1st</td>\n",
       "      <td>2.00</td>\n",
       "      <td>female</td>\n",
       "      <td>0</td>\n",
       "      <td>1</td>\n",
       "    </tr>\n",
       "    <tr>\n",
       "      <th>2</th>\n",
       "      <td>3</td>\n",
       "      <td>Allison, Mr Hudson Joshua Creighton</td>\n",
       "      <td>1st</td>\n",
       "      <td>30.00</td>\n",
       "      <td>male</td>\n",
       "      <td>0</td>\n",
       "      <td>0</td>\n",
       "    </tr>\n",
       "    <tr>\n",
       "      <th>3</th>\n",
       "      <td>4</td>\n",
       "      <td>Allison, Mrs Hudson JC (Bessie Waldo Daniels)</td>\n",
       "      <td>1st</td>\n",
       "      <td>25.00</td>\n",
       "      <td>female</td>\n",
       "      <td>0</td>\n",
       "      <td>1</td>\n",
       "    </tr>\n",
       "    <tr>\n",
       "      <th>4</th>\n",
       "      <td>5</td>\n",
       "      <td>Allison, Master Hudson Trevor</td>\n",
       "      <td>1st</td>\n",
       "      <td>0.92</td>\n",
       "      <td>male</td>\n",
       "      <td>1</td>\n",
       "      <td>0</td>\n",
       "    </tr>\n",
       "    <tr>\n",
       "      <th>...</th>\n",
       "      <td>...</td>\n",
       "      <td>...</td>\n",
       "      <td>...</td>\n",
       "      <td>...</td>\n",
       "      <td>...</td>\n",
       "      <td>...</td>\n",
       "      <td>...</td>\n",
       "    </tr>\n",
       "    <tr>\n",
       "      <th>1308</th>\n",
       "      <td>1309</td>\n",
       "      <td>Zakarian, Mr Artun</td>\n",
       "      <td>3rd</td>\n",
       "      <td>27.00</td>\n",
       "      <td>male</td>\n",
       "      <td>0</td>\n",
       "      <td>0</td>\n",
       "    </tr>\n",
       "    <tr>\n",
       "      <th>1309</th>\n",
       "      <td>1310</td>\n",
       "      <td>Zakarian, Mr Maprieder</td>\n",
       "      <td>3rd</td>\n",
       "      <td>26.00</td>\n",
       "      <td>male</td>\n",
       "      <td>0</td>\n",
       "      <td>0</td>\n",
       "    </tr>\n",
       "    <tr>\n",
       "      <th>1310</th>\n",
       "      <td>1311</td>\n",
       "      <td>Zenni, Mr Philip</td>\n",
       "      <td>3rd</td>\n",
       "      <td>22.00</td>\n",
       "      <td>male</td>\n",
       "      <td>0</td>\n",
       "      <td>0</td>\n",
       "    </tr>\n",
       "    <tr>\n",
       "      <th>1311</th>\n",
       "      <td>1312</td>\n",
       "      <td>Lievens, Mr Rene</td>\n",
       "      <td>3rd</td>\n",
       "      <td>24.00</td>\n",
       "      <td>male</td>\n",
       "      <td>0</td>\n",
       "      <td>0</td>\n",
       "    </tr>\n",
       "    <tr>\n",
       "      <th>1312</th>\n",
       "      <td>1313</td>\n",
       "      <td>Zimmerman, Leo</td>\n",
       "      <td>3rd</td>\n",
       "      <td>29.00</td>\n",
       "      <td>male</td>\n",
       "      <td>0</td>\n",
       "      <td>0</td>\n",
       "    </tr>\n",
       "  </tbody>\n",
       "</table>\n",
       "<p>1313 rows × 7 columns</p>\n",
       "</div>"
      ],
      "text/plain": [
       "      Passenger_id                                           Name PClass  \\\n",
       "0                1                   Allen, Miss Elisabeth Walton    1st   \n",
       "1                2                    Allison, Miss Helen Loraine    1st   \n",
       "2                3            Allison, Mr Hudson Joshua Creighton    1st   \n",
       "3                4  Allison, Mrs Hudson JC (Bessie Waldo Daniels)    1st   \n",
       "4                5                  Allison, Master Hudson Trevor    1st   \n",
       "...            ...                                            ...    ...   \n",
       "1308          1309                             Zakarian, Mr Artun    3rd   \n",
       "1309          1310                         Zakarian, Mr Maprieder    3rd   \n",
       "1310          1311                               Zenni, Mr Philip    3rd   \n",
       "1311          1312                               Lievens, Mr Rene    3rd   \n",
       "1312          1313                                 Zimmerman, Leo    3rd   \n",
       "\n",
       "        Age  Gender  Survived  GenderCode  \n",
       "0     29.00  female         1           1  \n",
       "1      2.00  female         0           1  \n",
       "2     30.00    male         0           0  \n",
       "3     25.00  female         0           1  \n",
       "4      0.92    male         1           0  \n",
       "...     ...     ...       ...         ...  \n",
       "1308  27.00    male         0           0  \n",
       "1309  26.00    male         0           0  \n",
       "1310  22.00    male         0           0  \n",
       "1311  24.00    male         0           0  \n",
       "1312  29.00    male         0           0  \n",
       "\n",
       "[1313 rows x 7 columns]"
      ]
     },
     "execution_count": 21,
     "metadata": {},
     "output_type": "execute_result"
    }
   ],
   "source": [
    "titanic"
   ]
  },
  {
   "cell_type": "code",
   "execution_count": 9,
   "id": "52217105-5be0-4f60-90cc-e2d182c016da",
   "metadata": {},
   "outputs": [
    {
     "name": "stdout",
     "output_type": "stream",
     "text": [
      "Unnamed: 0      int64\n",
      "Name           object\n",
      "PClass         object\n",
      "Age           float64\n",
      "Gender         object\n",
      "Survived        int64\n",
      "GenderCode      int64\n",
      "dtype: object\n"
     ]
    }
   ],
   "source": [
    "print(titanic.dtypes)"
   ]
  },
  {
   "cell_type": "code",
   "execution_count": 22,
   "id": "573abdef-d2e5-4c7a-92a2-477fe745f4a5",
   "metadata": {},
   "outputs": [
    {
     "name": "stdout",
     "output_type": "stream",
     "text": [
      "<class 'pandas.core.frame.DataFrame'>\n",
      "RangeIndex: 1313 entries, 0 to 1312\n",
      "Data columns (total 7 columns):\n",
      " #   Column        Non-Null Count  Dtype  \n",
      "---  ------        --------------  -----  \n",
      " 0   Passenger_id  1313 non-null   int64  \n",
      " 1   Name          1313 non-null   object \n",
      " 2   PClass        1313 non-null   object \n",
      " 3   Age           756 non-null    float64\n",
      " 4   Gender        1313 non-null   object \n",
      " 5   Survived      1313 non-null   int64  \n",
      " 6   GenderCode    1313 non-null   int64  \n",
      "dtypes: float64(1), int64(3), object(3)\n",
      "memory usage: 71.9+ KB\n",
      "None\n"
     ]
    }
   ],
   "source": [
    "print(titanic.info())"
   ]
  },
  {
   "cell_type": "code",
   "execution_count": 23,
   "id": "fa5a4880-e793-4f33-a215-b4d2336eca73",
   "metadata": {},
   "outputs": [
    {
     "data": {
      "text/plain": [
       "Index(['Passenger_id', 'Name', 'PClass', 'Age', 'Gender', 'Survived',\n",
       "       'GenderCode'],\n",
       "      dtype='object')"
      ]
     },
     "execution_count": 23,
     "metadata": {},
     "output_type": "execute_result"
    }
   ],
   "source": [
    "#printing column \n",
    "titanic.columns"
   ]
  },
  {
   "cell_type": "code",
   "execution_count": 24,
   "id": "fa8206ac-3768-4cde-b59f-a57703eb5630",
   "metadata": {},
   "outputs": [
    {
     "data": {
      "text/plain": [
       "'Passenger_id'"
      ]
     },
     "execution_count": 24,
     "metadata": {},
     "output_type": "execute_result"
    }
   ],
   "source": [
    "titanic.columns[0]"
   ]
  },
  {
   "cell_type": "code",
   "execution_count": 25,
   "id": "b18eb32e-027d-48d8-addd-5f0af0999b90",
   "metadata": {},
   "outputs": [
    {
     "data": {
      "text/plain": [
       "'Age'"
      ]
     },
     "execution_count": 25,
     "metadata": {},
     "output_type": "execute_result"
    }
   ],
   "source": [
    "titanic.columns[3]"
   ]
  },
  {
   "cell_type": "code",
   "execution_count": 26,
   "id": "5fb17760-c487-473f-9bde-eded24eab49c",
   "metadata": {},
   "outputs": [
    {
     "name": "stdout",
     "output_type": "stream",
     "text": [
      "0     29.00\n",
      "1      2.00\n",
      "2     30.00\n",
      "3     25.00\n",
      "4      0.92\n",
      "5     47.00\n",
      "6     63.00\n",
      "7     39.00\n",
      "8     58.00\n",
      "9     71.00\n",
      "10    47.00\n",
      "11    19.00\n",
      "12      NaN\n",
      "13      NaN\n",
      "14      NaN\n",
      "15    50.00\n",
      "Name: Age, dtype: float64\n"
     ]
    }
   ],
   "source": [
    "print(titanic['Age'].head(16))"
   ]
  },
  {
   "cell_type": "code",
   "execution_count": 31,
   "id": "a23e744a-19c3-44bb-a1e4-e63d9e7cf37c",
   "metadata": {},
   "outputs": [
    {
     "name": "stdout",
     "output_type": "stream",
     "text": [
      "     Age  Gender\n",
      "0  29.00  female\n",
      "1   2.00  female\n",
      "2  30.00    male\n",
      "3  25.00  female\n",
      "4   0.92    male\n",
      "5  47.00    male\n",
      "6  63.00  female\n",
      "7  39.00    male\n"
     ]
    }
   ],
   "source": [
    "#printing more than one columns together\n",
    "print(titanic[[\"Age\",\"Gender\"]].head(8))"
   ]
  },
  {
   "cell_type": "code",
   "execution_count": 32,
   "id": "43dc0156-70de-4922-ae8f-2db29896d9e4",
   "metadata": {},
   "outputs": [
    {
     "name": "stdout",
     "output_type": "stream",
     "text": [
      "   Passenger_id                                          Name PClass   Age  \\\n",
      "5             6                            Anderson, Mr Harry    1st  47.0   \n",
      "6             7              Andrews, Miss Kornelia Theodosia    1st  63.0   \n",
      "7             8                        Andrews, Mr Thomas, jr    1st  39.0   \n",
      "8             9  Appleton, Mrs Edward Dale (Charlotte Lamson)    1st  58.0   \n",
      "9            10                        Artagaveytia, Mr Ramon    1st  71.0   \n",
      "\n",
      "   Gender  Survived  GenderCode  \n",
      "5    male         1           0  \n",
      "6  female         1           1  \n",
      "7    male         0           0  \n",
      "8  female         1           1  \n",
      "9    male         0           0  \n"
     ]
    }
   ],
   "source": [
    "#printing passengers having age>30\n",
    "age_30=titanic[titanic[\"Age\"]>30]\n",
    "print(age_30.head())\n"
   ]
  },
  {
   "cell_type": "code",
   "execution_count": 38,
   "id": "d834e2fe-cbb0-4f51-9084-a9efd8c8c1af",
   "metadata": {},
   "outputs": [
    {
     "name": "stdout",
     "output_type": "stream",
     "text": [
      "    Passenger_id                                             Name PClass  \\\n",
      "6              7                 Andrews, Miss Kornelia Theodosia    1st   \n",
      "8              9     Appleton, Mrs Edward Dale (Charlotte Lamson)    1st   \n",
      "15            16   Baxter, Mrs James (Helene DeLaudeniere Chaput)    1st   \n",
      "19            20  Beckwith, Mrs Richard Leonard (Sallie Monypeny)    1st   \n",
      "28            29                          Bonnell, Miss Elizabeth    1st   \n",
      "\n",
      "     Age  Gender  Survived  GenderCode  \n",
      "6   63.0  female         1           1  \n",
      "8   58.0  female         1           1  \n",
      "15  50.0  female         1           1  \n",
      "19  47.0  female         1           1  \n",
      "28  58.0  female         1           1  \n"
     ]
    }
   ],
   "source": [
    "#printing  female whose age>30\n",
    "age_30=titanic[(titanic[\"Gender\"]=='female') & (titanic[\"Age\"]>30)]\n",
    "print(age_30.head())"
   ]
  },
  {
   "cell_type": "code",
   "execution_count": 39,
   "id": "9057c4c0-273a-43f9-8615-4be234a8ee3d",
   "metadata": {},
   "outputs": [
    {
     "name": "stdout",
     "output_type": "stream",
     "text": [
      "     Passenger_id                              Name PClass   Age  Gender  \\\n",
      "587           588       West, Miss Constance Mirium    2nd   NaN  female   \n",
      "588           589              West, Mr Edwy Arthur    2nd  36.0    male   \n",
      "589           590  West, Mrs Edwy Arthur (Ada Mary)    2nd  33.0  female   \n",
      "590           591                Wheadon, Mr Edward    2nd   NaN    male   \n",
      "591           592                 Wheeler, Mr Edwin    2nd   NaN    male   \n",
      "592           593             Wheeler, Mr Frederick    2nd   NaN    male   \n",
      "593           594              Wilhelms, Mr Charles    2nd  32.0    male   \n",
      "594           595     Wilkinson, Mrs Elizabeth Anne    2nd   NaN  female   \n",
      "595           596       Williams, Mr Charles Eugene    2nd   NaN    male   \n",
      "596           597               Wright, Miss Marion    2nd  26.0  female   \n",
      "597           598             Yrois, Miss Henriette    2nd   NaN  female   \n",
      "598           599     Aldworth, Mr Charles Augustus    2nd  30.0    male   \n",
      "599           600               Brown, Miss Mildred    2nd  24.0  female   \n",
      "600           601                   Pernot, Mr Rene    2nd   NaN    male   \n",
      "601           602                  Swane, Mr George    2nd  18.0    male   \n",
      "\n",
      "     Survived  GenderCode  \n",
      "587         1           1  \n",
      "588         0           0  \n",
      "589         1           1  \n",
      "590         0           0  \n",
      "591         0           0  \n",
      "592         0           0  \n",
      "593         1           0  \n",
      "594         1           1  \n",
      "595         1           0  \n",
      "596         1           1  \n",
      "597         0           1  \n",
      "598         0           0  \n",
      "599         1           1  \n",
      "600         0           0  \n",
      "601         0           0  \n"
     ]
    }
   ],
   "source": [
    "#selecting the passengers with 1st and 2nd class\n",
    "pclass_filter=titanic[titanic[\"PClass\"].isin([\"1st\",\"2nd\"])]\n",
    "print(pclass_filter.tail(15))"
   ]
  },
  {
   "cell_type": "code",
   "execution_count": 40,
   "id": "3bb1bf74-6947-41e7-9aaf-f3c78e4c05bf",
   "metadata": {},
   "outputs": [
    {
     "name": "stdout",
     "output_type": "stream",
     "text": [
      "                                               Name\n",
      "6                  Andrews, Miss Kornelia Theodosia\n",
      "8      Appleton, Mrs Edward Dale (Charlotte Lamson)\n",
      "15   Baxter, Mrs James (Helene DeLaudeniere Chaput)\n",
      "19  Beckwith, Mrs Richard Leonard (Sallie Monypeny)\n",
      "28                          Bonnell, Miss Elizabeth\n"
     ]
    }
   ],
   "source": [
    "#Loc function\n",
    "#selecting females with age>35\n",
    "age_35=titanic.loc[(titanic[\"Age\"]>35) & (titanic[\"Gender\"]==\"female\"),[\"Name\"]]\n",
    "print(age_35.head())"
   ]
  },
  {
   "cell_type": "code",
   "execution_count": 43,
   "id": "cf63db34-69cb-49bd-98c7-548f5f545500",
   "metadata": {},
   "outputs": [
    {
     "data": {
      "text/html": [
       "<div>\n",
       "<style scoped>\n",
       "    .dataframe tbody tr th:only-of-type {\n",
       "        vertical-align: middle;\n",
       "    }\n",
       "\n",
       "    .dataframe tbody tr th {\n",
       "        vertical-align: top;\n",
       "    }\n",
       "\n",
       "    .dataframe thead th {\n",
       "        text-align: right;\n",
       "    }\n",
       "</style>\n",
       "<table border=\"1\" class=\"dataframe\">\n",
       "  <thead>\n",
       "    <tr style=\"text-align: right;\">\n",
       "      <th></th>\n",
       "      <th>Name</th>\n",
       "      <th>PClass</th>\n",
       "    </tr>\n",
       "  </thead>\n",
       "  <tbody>\n",
       "    <tr>\n",
       "      <th>6</th>\n",
       "      <td>Andrews, Miss Kornelia Theodosia</td>\n",
       "      <td>1st</td>\n",
       "    </tr>\n",
       "    <tr>\n",
       "      <th>8</th>\n",
       "      <td>Appleton, Mrs Edward Dale (Charlotte Lamson)</td>\n",
       "      <td>1st</td>\n",
       "    </tr>\n",
       "    <tr>\n",
       "      <th>15</th>\n",
       "      <td>Baxter, Mrs James (Helene DeLaudeniere Chaput)</td>\n",
       "      <td>1st</td>\n",
       "    </tr>\n",
       "    <tr>\n",
       "      <th>19</th>\n",
       "      <td>Beckwith, Mrs Richard Leonard (Sallie Monypeny)</td>\n",
       "      <td>1st</td>\n",
       "    </tr>\n",
       "    <tr>\n",
       "      <th>28</th>\n",
       "      <td>Bonnell, Miss Elizabeth</td>\n",
       "      <td>1st</td>\n",
       "    </tr>\n",
       "  </tbody>\n",
       "</table>\n",
       "</div>"
      ],
      "text/plain": [
       "                                               Name PClass\n",
       "6                  Andrews, Miss Kornelia Theodosia    1st\n",
       "8      Appleton, Mrs Edward Dale (Charlotte Lamson)    1st\n",
       "15   Baxter, Mrs James (Helene DeLaudeniere Chaput)    1st\n",
       "19  Beckwith, Mrs Richard Leonard (Sallie Monypeny)    1st\n",
       "28                          Bonnell, Miss Elizabeth    1st"
      ]
     },
     "execution_count": 43,
     "metadata": {},
     "output_type": "execute_result"
    }
   ],
   "source": [
    "age_35=titanic.loc[(titanic[\"Age\"]>35)& (titanic[\"Gender\"]==\"female\"),[\"Name\",\"PClass\"]]\n",
    "age_35.head()"
   ]
  },
  {
   "cell_type": "code",
   "execution_count": 44,
   "id": "5bf8295b-6506-4527-9213-82909c099ae3",
   "metadata": {},
   "outputs": [
    {
     "data": {
      "text/plain": [
       "Name      96\n",
       "PClass    96\n",
       "dtype: int64"
      ]
     },
     "execution_count": 44,
     "metadata": {},
     "output_type": "execute_result"
    }
   ],
   "source": [
    "age_35.count()"
   ]
  },
  {
   "cell_type": "code",
   "execution_count": 45,
   "id": "b8995fe7-ddcd-4ab5-9950-22928a1e7206",
   "metadata": {},
   "outputs": [
    {
     "data": {
      "text/html": [
       "<div>\n",
       "<style scoped>\n",
       "    .dataframe tbody tr th:only-of-type {\n",
       "        vertical-align: middle;\n",
       "    }\n",
       "\n",
       "    .dataframe tbody tr th {\n",
       "        vertical-align: top;\n",
       "    }\n",
       "\n",
       "    .dataframe thead th {\n",
       "        text-align: right;\n",
       "    }\n",
       "</style>\n",
       "<table border=\"1\" class=\"dataframe\">\n",
       "  <thead>\n",
       "    <tr style=\"text-align: right;\">\n",
       "      <th></th>\n",
       "      <th>Passenger_id</th>\n",
       "      <th>Name</th>\n",
       "      <th>PClass</th>\n",
       "      <th>Age</th>\n",
       "      <th>Gender</th>\n",
       "      <th>Survived</th>\n",
       "      <th>GenderCode</th>\n",
       "    </tr>\n",
       "  </thead>\n",
       "  <tbody>\n",
       "    <tr>\n",
       "      <th>2</th>\n",
       "      <td>3</td>\n",
       "      <td>Allison, Mr Hudson Joshua Creighton</td>\n",
       "      <td>1st</td>\n",
       "      <td>30.00</td>\n",
       "      <td>male</td>\n",
       "      <td>0</td>\n",
       "      <td>0</td>\n",
       "    </tr>\n",
       "    <tr>\n",
       "      <th>3</th>\n",
       "      <td>4</td>\n",
       "      <td>Allison, Mrs Hudson JC (Bessie Waldo Daniels)</td>\n",
       "      <td>1st</td>\n",
       "      <td>25.00</td>\n",
       "      <td>female</td>\n",
       "      <td>0</td>\n",
       "      <td>1</td>\n",
       "    </tr>\n",
       "    <tr>\n",
       "      <th>4</th>\n",
       "      <td>5</td>\n",
       "      <td>Allison, Master Hudson Trevor</td>\n",
       "      <td>1st</td>\n",
       "      <td>0.92</td>\n",
       "      <td>male</td>\n",
       "      <td>1</td>\n",
       "      <td>0</td>\n",
       "    </tr>\n",
       "    <tr>\n",
       "      <th>5</th>\n",
       "      <td>6</td>\n",
       "      <td>Anderson, Mr Harry</td>\n",
       "      <td>1st</td>\n",
       "      <td>47.00</td>\n",
       "      <td>male</td>\n",
       "      <td>1</td>\n",
       "      <td>0</td>\n",
       "    </tr>\n",
       "  </tbody>\n",
       "</table>\n",
       "</div>"
      ],
      "text/plain": [
       "   Passenger_id                                           Name PClass    Age  \\\n",
       "2             3            Allison, Mr Hudson Joshua Creighton    1st  30.00   \n",
       "3             4  Allison, Mrs Hudson JC (Bessie Waldo Daniels)    1st  25.00   \n",
       "4             5                  Allison, Master Hudson Trevor    1st   0.92   \n",
       "5             6                             Anderson, Mr Harry    1st  47.00   \n",
       "\n",
       "   Gender  Survived  GenderCode  \n",
       "2    male         0           0  \n",
       "3  female         0           1  \n",
       "4    male         1           0  \n",
       "5    male         1           0  "
      ]
     },
     "execution_count": 45,
     "metadata": {},
     "output_type": "execute_result"
    }
   ],
   "source": [
    "#selecting a range of rows from 2 to 5\n",
    "rows=titanic.loc[2:5]\n",
    "rows"
   ]
  },
  {
   "cell_type": "code",
   "execution_count": 51,
   "id": "b4e81870-690c-4150-93a5-fe0ceab938ab",
   "metadata": {},
   "outputs": [
    {
     "name": "stdout",
     "output_type": "stream",
     "text": [
      "      Passenger_id                                               Name  \\\n",
      "6                7                   Andrews, Miss Kornelia Theodosia   \n",
      "9               10                             Artagaveytia, Mr Ramon   \n",
      "67              68  Compton, Mrs Alexander Taylor (Mary Eliza Inge...   \n",
      "72              73                     Crosby, Captain Edward Gifford   \n",
      "73              74  Crosby, Mrs Edward Gifford (Catherine Elizabet...   \n",
      "103            104                                   Fortune, Mr Mark   \n",
      "119            120                           Goldschmidt, Mr George B   \n",
      "179            180                           Millet, Mr Francis Davis   \n",
      "191            192                        Nicholson, Mr Arthur Ernest   \n",
      "193            194                      Ostby, Mr Engelhart Cornelius   \n",
      "218            219                          Ryerson, Mr Arthur Larned   \n",
      "246            247                           Stead, Mr William Thomas   \n",
      "251            252                Stone, Mrs George Nelson (Martha E)   \n",
      "252            253                                  Straus, Mr Isidor   \n",
      "253            254                      Straus, Mrs Isidor (Ida Blun)   \n",
      "254            255                               Sutton, Mr Frederick   \n",
      "268            269                            Van Derhoef, Mr Wyckoff   \n",
      "270            271                            Warren, Mr Frank Manley   \n",
      "505            506                         Mitchell, Mr Henry Michael   \n",
      "509            510                           Myles, Mr Thomas Francis   \n",
      "772            773                                    Dewan, Mr Frank   \n",
      "1264          1265                                Turkula, Mrs Hedvig   \n",
      "\n",
      "       PClass   Age  Gender  Survived  GenderCode  \n",
      "6     Elderly  63.0  female         1           1  \n",
      "9     Elderly  71.0    male         0           0  \n",
      "67    Elderly  64.0  female         1           1  \n",
      "72    Elderly  70.0    male         0           0  \n",
      "73    Elderly  69.0  female         1           1  \n",
      "103   Elderly  64.0    male         0           0  \n",
      "119   Elderly  71.0    male         0           0  \n",
      "179   Elderly  65.0    male         0           0  \n",
      "191   Elderly  64.0    male         0           0  \n",
      "193   Elderly  64.0    male         0           0  \n",
      "218   Elderly  61.0    male         0           0  \n",
      "246   Elderly  62.0    male         0           0  \n",
      "251   Elderly  62.0  female         1           1  \n",
      "252   Elderly  67.0    male         0           0  \n",
      "253   Elderly  63.0  female         0           1  \n",
      "254   Elderly  61.0    male         0           0  \n",
      "268   Elderly  61.0    male         0           0  \n",
      "270   Elderly  64.0    male         0           0  \n",
      "505   Elderly  71.0    male         0           0  \n",
      "509   Elderly  64.0    male         0           0  \n",
      "772   Elderly  65.0    male         0           0  \n",
      "1264  Elderly  63.0  female         1           1  \n"
     ]
    }
   ],
   "source": [
    "#updating the value of Pclass of people having age>60 with \"Elderly\" value\n",
    "update_value=titanic.loc[(titanic[\"Age\"]>60) ,[\"PClass\"]]=\"Elderly\"\n",
    "print(titanic[titanic[\"Age\"]>60])  "
   ]
  },
  {
   "cell_type": "code",
   "execution_count": 54,
   "id": "7d863055-21f6-4b22-8876-97ad0d7fdc9d",
   "metadata": {},
   "outputs": [
    {
     "name": "stdout",
     "output_type": "stream",
     "text": [
      "    Age  Gender  Survived\n",
      "5  47.0    male         1\n",
      "6  63.0  female         1\n",
      "7  39.0    male         0\n",
      "8  58.0  female         1\n",
      "9  71.0    male         0\n"
     ]
    }
   ],
   "source": [
    "#using iloc function\n",
    "#selecting rows using integer slices\n",
    "rows2=titanic.iloc[5:10,3:6]\n",
    "print(rows2)\n",
    "r1=titanic.iloc[13:16,5]  #selecting 13 to 15 rows in col 5\n",
    "print(r1)"
   ]
  },
  {
   "cell_type": "code",
   "execution_count": 56,
   "id": "0e7c1317-9518-434b-b899-5afc06471706",
   "metadata": {},
   "outputs": [
    {
     "name": "stdout",
     "output_type": "stream",
     "text": [
      "30.397989417989418\n",
      "30.4\n"
     ]
    }
   ],
   "source": [
    "#find out mean AGE\n",
    "mean_age=titanic[\"Age\"].mean()\n",
    "print(mean_age)\n",
    "print(round(mean_age,2))"
   ]
  },
  {
   "cell_type": "code",
   "execution_count": 60,
   "id": "172f4a7c-d400-4758-abe3-8298e51c34c5",
   "metadata": {},
   "outputs": [
    {
     "name": "stdout",
     "output_type": "stream",
     "text": [
      "756\n",
      "30.397989417989418\n"
     ]
    }
   ],
   "source": [
    "#deleting Na values from age columns\n",
    "clean_age=titanic[\"Age\"].dropna() #dropna will remove the null value\n",
    "print(clean_age.count())\n",
    "print(clean_age.mean())\n"
   ]
  },
  {
   "cell_type": "code",
   "execution_count": null,
   "id": "61a634fd-c682-4634-803e-fe8795dfe8c9",
   "metadata": {},
   "outputs": [],
   "source": []
  }
 ],
 "metadata": {
  "kernelspec": {
   "display_name": "Python 3 (ipykernel)",
   "language": "python",
   "name": "python3"
  },
  "language_info": {
   "codemirror_mode": {
    "name": "ipython",
    "version": 3
   },
   "file_extension": ".py",
   "mimetype": "text/x-python",
   "name": "python",
   "nbconvert_exporter": "python",
   "pygments_lexer": "ipython3",
   "version": "3.12.2"
  }
 },
 "nbformat": 4,
 "nbformat_minor": 5
}
