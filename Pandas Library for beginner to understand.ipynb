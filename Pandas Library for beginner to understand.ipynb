{
 "cells": [
  {
   "cell_type": "markdown",
   "id": "c545c15c-8aaf-415b-84b4-1bd874cde715",
   "metadata": {},
   "source": [
    "# The pandas Library"
   ]
  },
  {
   "cell_type": "code",
   "execution_count": 1,
   "id": "2145cbae-6688-4906-aa66-251a1be5243e",
   "metadata": {},
   "outputs": [],
   "source": [
    "import pandas as pd\n",
    "import numpy as np"
   ]
  },
  {
   "cell_type": "code",
   "execution_count": 4,
   "id": "46094126-0288-464f-b3d4-179ea015e18b",
   "metadata": {},
   "outputs": [
    {
     "name": "stdout",
     "output_type": "stream",
     "text": [
      "0    45\n",
      "1    67\n",
      "2    -4\n",
      "3    89\n",
      "dtype: int64\n",
      "RangeIndex(start=0, stop=4, step=1)\n",
      "[45 67 -4 89]\n"
     ]
    }
   ],
   "source": [
    "#create Series using Series() constructor\n",
    "ser1=pd.Series([45,67,-4,89])\n",
    "print(ser1)\n",
    "print(ser1.index)\n",
    "print(ser1.values)\n"
   ]
  },
  {
   "cell_type": "code",
   "execution_count": 6,
   "id": "3bf61e53-b0df-43d6-9edb-e1a9dbd14c60",
   "metadata": {},
   "outputs": [
    {
     "name": "stdout",
     "output_type": "stream",
     "text": [
      "100    0\n",
      "200    1\n",
      "300    2\n",
      "400    3\n",
      "500    4\n",
      "600    5\n",
      "dtype: int64\n"
     ]
    }
   ],
   "source": [
    "# you can also pass numpy array in the series\n",
    "a1=np.arange(6)\n",
    "s1=pd.Series((a1),index=[100,200,300,400,500,600])\n",
    "print(s1)"
   ]
  },
  {
   "cell_type": "code",
   "execution_count": 9,
   "id": "d09172bf-ffd2-4df5-a6e2-f5e7c5b19106",
   "metadata": {},
   "outputs": [
    {
     "name": "stdout",
     "output_type": "stream",
     "text": [
      "100    4545\n",
      "200       1\n",
      "300       2\n",
      "400       3\n",
      "500       4\n",
      "600       5\n",
      "dtype: int64\n",
      "[4545    1    2    3    4    5]\n"
     ]
    }
   ],
   "source": [
    "s1[100]=4545\n",
    "print(s1)\n",
    "print(a1)"
   ]
  },
  {
   "cell_type": "markdown",
   "id": "55e66c12-b3d5-4123-b18a-ad3e0ace5b76",
   "metadata": {},
   "source": [
    "# Data Frame in pandas"
   ]
  },
  {
   "cell_type": "code",
   "execution_count": 28,
   "id": "1df07f03-50bb-490d-a49c-e6446216d622",
   "metadata": {},
   "outputs": [
    {
     "name": "stdout",
     "output_type": "stream",
     "text": [
      "  product  price   color\n",
      "0     Pen     30     Red\n",
      "1  Pencil     10  Purple\n",
      "2  Eraser      5   White\n",
      "3  Marker     50   Black\n",
      "Index(['product', 'price', 'color'], dtype='object')\n",
      "[['Pen' 30 'Red']\n",
      " ['Pencil' 10 'Purple']\n",
      " ['Eraser' 5 'White']\n",
      " ['Marker' 50 'Black']]\n",
      "RangeIndex(start=0, stop=4, step=1)\n",
      "   price   color\n",
      "0     30     Red\n",
      "1     10  Purple\n",
      "2      5   White\n",
      "3     50   Black\n"
     ]
    }
   ],
   "source": [
    "dict1={'product':['Pen','Pencil','Eraser','Marker'],\n",
    "       'price':[30,10,5,50],\n",
    "       'color':['Red','Purple','White','Black']\n",
    "      }\n",
    "df1=pd.DataFrame(dict1)\n",
    "print(df1)\n",
    "print(df1.columns)\n",
    "print(df1.values)\n",
    "print(df1.index)\n",
    "df3=pd.DataFrame(dict1,columns=['price','color'])\n",
    "print(df3)"
   ]
  },
  {
   "cell_type": "code",
   "execution_count": 22,
   "id": "bcef8ea6-2d35-4400-a977-a853a743d150",
   "metadata": {},
   "outputs": [
    {
     "name": "stdout",
     "output_type": "stream",
     "text": [
      "      col1  col2  col3  col4  col5\n",
      "row1     0     1     2     3     4\n",
      "row2     5     6     7     8     9\n",
      "row3    10    11    12    13    14\n"
     ]
    }
   ],
   "source": [
    "df2=pd.DataFrame((np.arange(0,15).reshape(3,5)),index=['row1','row2','row3'],columns=['col1','col2','col3','col4','col5'])                                                                                 \n",
    "print(df2)"
   ]
  },
  {
   "cell_type": "code",
   "execution_count": 23,
   "id": "ba22828f-91c1-4a37-9b8c-86a8ae9bef34",
   "metadata": {},
   "outputs": [
    {
     "name": "stdout",
     "output_type": "stream",
     "text": [
      "row1     1\n",
      "row2     6\n",
      "row3    11\n",
      "Name: col2, dtype: int64\n"
     ]
    }
   ],
   "source": [
    "print(df2.col2)"
   ]
  },
  {
   "cell_type": "code",
   "execution_count": 24,
   "id": "225a0fc5-7955-4dbc-9b6f-194af885b17b",
   "metadata": {},
   "outputs": [
    {
     "name": "stdout",
     "output_type": "stream",
     "text": [
      "      col1  col2  col3  col4  col5\n",
      "row1     0     1     2     3     4\n",
      "row2     5     6     7     8     9\n"
     ]
    }
   ],
   "source": [
    "print(df2[0:2])"
   ]
  },
  {
   "cell_type": "code",
   "execution_count": 25,
   "id": "7f8dae1c-52da-45f2-ae52-4f736779509c",
   "metadata": {},
   "outputs": [
    {
     "name": "stdout",
     "output_type": "stream",
     "text": [
      "      col1  col2  col3  col4  col5\n",
      "row1     0     1     2     3     4\n",
      "row2     5     6     7     8     9\n"
     ]
    }
   ],
   "source": [
    "print(df2.head(2))"
   ]
  },
  {
   "cell_type": "code",
   "execution_count": 26,
   "id": "f3fd2154-5977-41f5-8f85-60f78e716bd2",
   "metadata": {},
   "outputs": [
    {
     "name": "stdout",
     "output_type": "stream",
     "text": [
      "      col1  col2  col3  col4  col5\n",
      "row2     5     6     7     8     9\n",
      "row3    10    11    12    13    14\n"
     ]
    }
   ],
   "source": [
    "print(df2.tail(2))#last 2 rows"
   ]
  },
  {
   "cell_type": "code",
   "execution_count": null,
   "id": "c5a74208-85be-4eb4-8a2d-5ea3a2b7f37f",
   "metadata": {},
   "outputs": [],
   "source": [
    "    "
   ]
  }
 ],
 "metadata": {
  "kernelspec": {
   "display_name": "Python 3 (ipykernel)",
   "language": "python",
   "name": "python3"
  },
  "language_info": {
   "codemirror_mode": {
    "name": "ipython",
    "version": 3
   },
   "file_extension": ".py",
   "mimetype": "text/x-python",
   "name": "python",
   "nbconvert_exporter": "python",
   "pygments_lexer": "ipython3",
   "version": "3.12.2"
  }
 },
 "nbformat": 4,
 "nbformat_minor": 5
}
