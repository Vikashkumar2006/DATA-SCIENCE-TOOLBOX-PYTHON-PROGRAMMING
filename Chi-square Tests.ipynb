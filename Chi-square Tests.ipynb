{
 "cells": [
  {
   "cell_type": "markdown",
   "id": "cea4c0f0-5a7e-41f8-b9d8-0c18e3e537f5",
   "metadata": {},
   "source": [
    "# Chi-square test\n",
    "The chi-square test is a sttistical method used to make inferences about the distribution of a categorical varible.It compares actual observations of categorical ariables."
   ]
  },
  {
   "cell_type": "code",
   "execution_count": 4,
   "id": "70e657ab-1811-417a-917e-f20c91ba90ab",
   "metadata": {},
   "outputs": [],
   "source": [
    "import pandas as pd\n",
    "import numpy as np\n",
    "from scipy import stats"
   ]
  },
  {
   "cell_type": "code",
   "execution_count": 7,
   "id": "f00629c7-c3a6-4223-b3e1-fe3a9ded1c61",
   "metadata": {},
   "outputs": [
    {
     "name": "stdout",
     "output_type": "stream",
     "text": [
      "Preferences  Coffee  Tea\n",
      "Gender                  \n",
      "Female            2    1\n",
      "Male              3    1\n",
      "1.0\n"
     ]
    }
   ],
   "source": [
    "data = {\n",
    "    'Gender':['Male','Female','Male','Male','Female','Male','Female'],\n",
    "    'Preferences' : ['Coffee','Coffee','Coffee','Tea','Tea','Coffee','Coffee']}\n",
    "df=pd.DataFrame(data)\n",
    "# contingency is frequency table\n",
    "contingency=pd.crosstab(df['Gender'],df['Preferences'])\n",
    "# chi sqaure test returns 4 values : chi-value, p-value,dof(degrees of freedom), expected frequency\n",
    "print(contingency)\n",
    "\n",
    "chi, p_val,dof,expected=stats.chi2_contingency(contingency)\n",
    "print(p_val)"
   ]
  },
  {
   "cell_type": "code",
   "execution_count": 11,
   "id": "acc82bba-7e41-4f4d-9e3b-f7921fc85cff",
   "metadata": {},
   "outputs": [
    {
     "name": "stdout",
     "output_type": "stream",
     "text": [
      "0.006706275607805574\n",
      "chi2 Statistics:  7.3500000000000005\n",
      "Degrees of Freedom: 1\n",
      "Expected frequencies:\n",
      " [[10.  5.]\n",
      " [10.  5.]]\n"
     ]
    }
   ],
   "source": [
    "data=[[14,1],[6,9]]\n",
    "chi,p_val,dof,expected=stats.chi2_contingency(data)\n",
    "print(p_val)\n",
    "print(\"chi2 Statistics: \",chi)\n",
    "print(\"Degrees of Freedom:\",dof)\n",
    "print(\"Expected frequencies:\\n\",expected)"
   ]
  },
  {
   "cell_type": "code",
   "execution_count": null,
   "id": "232ebd57-a2f8-4812-bb25-569214375dee",
   "metadata": {},
   "outputs": [],
   "source": []
  }
 ],
 "metadata": {
  "kernelspec": {
   "display_name": "Python 3 (ipykernel)",
   "language": "python",
   "name": "python3"
  },
  "language_info": {
   "codemirror_mode": {
    "name": "ipython",
    "version": 3
   },
   "file_extension": ".py",
   "mimetype": "text/x-python",
   "name": "python",
   "nbconvert_exporter": "python",
   "pygments_lexer": "ipython3",
   "version": "3.12.2"
  }
 },
 "nbformat": 4,
 "nbformat_minor": 5
}
