{
 "cells": [
  {
   "cell_type": "code",
   "execution_count": 1,
   "id": "4334ec38-cbf2-43da-ad20-baeee1509423",
   "metadata": {},
   "outputs": [],
   "source": [
    "import pandas as pd"
   ]
  },
  {
   "cell_type": "code",
   "execution_count": 4,
   "id": "95da67d1-ad66-4485-ad3a-1fed6d0ee778",
   "metadata": {},
   "outputs": [],
   "source": [
    "nba=pd.read_csv(\"nba.csv\")\n"
   ]
  },
  {
   "cell_type": "code",
   "execution_count": 8,
   "id": "50d3ce01-e320-4759-84f3-161c0f685a8e",
   "metadata": {},
   "outputs": [
    {
     "name": "stdout",
     "output_type": "stream",
     "text": [
      "0      Avery Bradley\n",
      "1        Jae Crowder\n",
      "2       John Holland\n",
      "3        R.J. Hunter\n",
      "4      Jonas Jerebko\n",
      "           ...      \n",
      "453     Shelvin Mack\n",
      "454        Raul Neto\n",
      "455     Tibor Pleiss\n",
      "456      Jeff Withey\n",
      "457              NaN\n",
      "Name: Name, Length: 458, dtype: object\n"
     ]
    }
   ],
   "source": [
    "print(nba[\"Name\"])"
   ]
  },
  {
   "cell_type": "code",
   "execution_count": 9,
   "id": "3fbefffb-40c6-4957-835c-9fa32abfce79",
   "metadata": {},
   "outputs": [
    {
     "name": "stdout",
     "output_type": "stream",
     "text": [
      "0      False\n",
      "1      False\n",
      "2      False\n",
      "3      False\n",
      "4      False\n",
      "       ...  \n",
      "453    False\n",
      "454    False\n",
      "455    False\n",
      "456    False\n",
      "457    False\n",
      "Name: Age, Length: 458, dtype: bool\n"
     ]
    }
   ],
   "source": [
    "print(nba[\"Age\"]>=35)"
   ]
  },
  {
   "cell_type": "code",
   "execution_count": null,
   "id": "d6476841-deac-4913-a011-36b5d77b0777",
   "metadata": {},
   "outputs": [],
   "source": []
  }
 ],
 "metadata": {
  "kernelspec": {
   "display_name": "Python 3 (ipykernel)",
   "language": "python",
   "name": "python3"
  },
  "language_info": {
   "codemirror_mode": {
    "name": "ipython",
    "version": 3
   },
   "file_extension": ".py",
   "mimetype": "text/x-python",
   "name": "python",
   "nbconvert_exporter": "python",
   "pygments_lexer": "ipython3",
   "version": "3.12.2"
  }
 },
 "nbformat": 4,
 "nbformat_minor": 5
}
