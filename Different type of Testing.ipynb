{
 "cells": [
  {
   "cell_type": "code",
   "execution_count": null,
   "id": "508fff7d-7cb8-4c69-912b-d641498fe8c7",
   "metadata": {},
   "outputs": [],
   "source": [
    "import numpy as np\n",
    "import random\n",
    "import scipy.stats as stats"
   ]
  },
  {
   "cell_type": "code",
   "execution_count": 7,
   "id": "8ce1c007-a0f8-4607-a75f-5f87bd7ccb76",
   "metadata": {},
   "outputs": [
    {
     "name": "stdout",
     "output_type": "stream",
     "text": [
      "-3.641037580696589\n",
      "0.0010500537186329292\n",
      "14.884770409763844\n"
     ]
    }
   ],
   "source": [
    "a=[random.gauss(10,50) for x in range(30)]\n",
    "b=[random.gauss(15,30) for x in range(30)]\n",
    "ttest,ptest=stats.ttest_1samp(a,45,axis=0)\n",
    "print(ttest)\n",
    "print(ptest)\n",
    "print(np.mean(a))"
   ]
  },
  {
   "cell_type": "code",
   "execution_count": 8,
   "id": "d9818741-410b-46ff-8425-4b5d02a43676",
   "metadata": {},
   "outputs": [
    {
     "name": "stdout",
     "output_type": "stream",
     "text": [
      "Null hypothesis is rejected\n"
     ]
    }
   ],
   "source": [
    "if ptest<0.05:\n",
    "    print(\"Null hypothesis is rejected\")\n",
    "else:\n",
    "    print(\"Null hypothesis is accepted\")"
   ]
  },
  {
   "cell_type": "code",
   "execution_count": 9,
   "id": "4e7c2bd3-2ea0-4458-8ede-73fba777fb56",
   "metadata": {},
   "outputs": [],
   "source": [
    "import numpy as np\n",
    "import random\n",
    "import scipy.stats as stats"
   ]
  },
  {
   "cell_type": "code",
   "execution_count": 16,
   "id": "59cb9fc3-bd2b-454a-a531-a78b7f1e4203",
   "metadata": {},
   "outputs": [
    {
     "name": "stdout",
     "output_type": "stream",
     "text": [
      "-3.047832533426054\n",
      "0.0043765818648278335\n"
     ]
    }
   ],
   "source": [
    "a=[random.gauss(15,30) for x in range(30)]\n",
    "b=[random.gauss(45,65) for x in range(30)]\n",
    "# for independent variable\n",
    "t_stat,p_value=stats.ttest_ind(a,b,equal_var=False)\n",
    "print(t_stat)\n",
    "print(p_value)\n"
   ]
  },
  {
   "cell_type": "code",
   "execution_count": 19,
   "id": "b5dd1dc5-2f2f-4813-ae68-c69d13b385ea",
   "metadata": {},
   "outputs": [
    {
     "name": "stdout",
     "output_type": "stream",
     "text": [
      "-11.47054634714912\n",
      "1.854844894409307e-30\n"
     ]
    }
   ],
   "source": [
    "import numpy as np\n",
    "import random\n",
    "from statsmodels.stats.weightstats import ztest as ztest\n",
    "random.seed(20)\n",
    "a=[random.gauss(15,35) for x in range(30)]\n",
    "z_stat,p_value=ztest(a,value=100)\n",
    "print(z_stat)\n",
    "print(p_value)"
   ]
  },
  {
   "cell_type": "code",
   "execution_count": 20,
   "id": "87b7d8b2-0d2b-49f8-b843-3a30a90e8207",
   "metadata": {},
   "outputs": [],
   "source": [
    "import numpy as np\n",
    "import random\n",
    "from statsmodels.stats.weightstats import ztest as ztest"
   ]
  },
  {
   "cell_type": "code",
   "execution_count": 22,
   "id": "e7bb9121-a84a-473f-9183-34756b36527b",
   "metadata": {},
   "outputs": [
    {
     "name": "stdout",
     "output_type": "stream",
     "text": [
      "-0.4250817298933053\n",
      "0.6707770960119128\n"
     ]
    }
   ],
   "source": [
    "random.seed(20)\n",
    "a=[random.gauss(15,65) for x in range(30)]\n",
    "b=[random.gauss(17,74) for x in range(30)]\n",
    "z_stats,p_value=ztest(a,b,value=0)\n",
    "print(z_stats)\n",
    "print(p_value)"
   ]
  },
  {
   "cell_type": "code",
   "execution_count": 31,
   "id": "37c5c26e-f1de-4580-be26-2316e3061dd0",
   "metadata": {},
   "outputs": [
    {
     "name": "stdout",
     "output_type": "stream",
     "text": [
      "4.351551226551227\n",
      "0.22591997674767367\n",
      "3\n",
      "[[28.  22. ]\n",
      " [25.2 19.8]\n",
      " [44.8 35.2]\n",
      " [42.  33. ]]\n",
      "4.351551226551227\n"
     ]
    }
   ],
   "source": [
    "import pandas as pd\n",
    "from scipy.stats import chi2_contingency\n",
    "\n",
    "data=pd.DataFrame({\n",
    "    'Gender':['Male','Male','Female','Female'],\n",
    "    'Product A':[30,20,50,40],\n",
    "    'Product B':[20,25,30,35]\n",
    "})\n",
    "contingency_table=data[['Product A','Product B']]\n",
    "chi2,p,dof,expected=chi2_contingency(contingency_table)\n",
    "print(chi2)\n",
    "print(p)\n",
    "print(dof)\n",
    "print(expected)\n",
    "print(chi2)"
   ]
  },
  {
   "cell_type": "code",
   "execution_count": 34,
   "id": "20044fbb-52e8-4dc0-86dc-a7096f03f15d",
   "metadata": {},
   "outputs": [
    {
     "name": "stdout",
     "output_type": "stream",
     "text": [
      "Shapiro-wilk Test Statistic: 0.9722884258803877\n",
      "P-value: 0.913560953190048\n",
      "Data is norally distributed\n"
     ]
    }
   ],
   "source": [
    "from scipy.stats  import shapiro\n",
    "data=[4.5,5,5.5,6,6.5,7,7.5,8,8.5]\n",
    "stat,p=shapiro(data)\n",
    "print(f\"Shapiro-wilk Test Statistic: {stat}\")\n",
    "print(f\"P-value: {p}\")\n",
    "if p>0.05:\n",
    "    print(\"Data is norally distributed\")\n",
    "else:\n",
    "    print(\"Data is not normally distributed\")"
   ]
  },
  {
   "cell_type": "code",
   "execution_count": 36,
   "id": "945e9cb0-8008-4b83-a0c0-b8220f0d6b35",
   "metadata": {},
   "outputs": [
    {
     "name": "stdout",
     "output_type": "stream",
     "text": [
      "P(wait<20) 0.33\n"
     ]
    }
   ],
   "source": [
    "from scipy.stats import  uniform\n",
    "a=0\n",
    "b=30\n",
    "wait_time=uniform(loc=a,scale=b-a)\n",
    "prob=wait_time.cdf(10)\n",
    "print(\"P(wait<20)\",round(prob,2))\n"
   ]
  },
  {
   "cell_type": "code",
   "execution_count": 37,
   "id": "c54e609c-3f37-41fa-bc65-65ef32fc0b75",
   "metadata": {},
   "outputs": [
    {
     "name": "stdout",
     "output_type": "stream",
     "text": [
      "P(7 correct out of 10): 0.1172\n"
     ]
    }
   ],
   "source": [
    "\n",
    "from scipy.stats import binom\n",
    "\n",
    "# n = 10 trials, p = 0.5 success probability\n",
    "n = 10\n",
    "p = 0.5\n",
    "\n",
    "# Probability of exactly 7 correct guesses\n",
    "prob = binom.pmf(7, n, p)\n",
    "print(\"P(7 correct out of 10):\", round(prob, 4))"
   ]
  },
  {
   "cell_type": "code",
   "execution_count": 44,
   "id": "5a6c352c-2348-4ff8-b3a4-3ce1c9aaff59",
   "metadata": {},
   "outputs": [
    {
     "name": "stdout",
     "output_type": "stream",
     "text": [
      "P(7 correct out of 10): 0.0901\n"
     ]
    }
   ],
   "source": [
    "\n",
    "from scipy.stats import poisson\n",
    "\n",
    "# n = 10 trials, p = 0.5 success probability\n",
    "n = 10\n",
    "p = 0.5\n",
    "\n",
    "# Probability of exactly 7 correct guesses\n",
    "prob = poisson.pmf(7, n)\n",
    "print(\"P(7 correct out of 10):\", round(prob, 4))"
   ]
  },
  {
   "cell_type": "code",
   "execution_count": null,
   "id": "c7688456-7fe8-435b-8cf2-cd56e43abcd5",
   "metadata": {},
   "outputs": [],
   "source": []
  }
 ],
 "metadata": {
  "kernelspec": {
   "display_name": "Python 3 (ipykernel)",
   "language": "python",
   "name": "python3"
  },
  "language_info": {
   "codemirror_mode": {
    "name": "ipython",
    "version": 3
   },
   "file_extension": ".py",
   "mimetype": "text/x-python",
   "name": "python",
   "nbconvert_exporter": "python",
   "pygments_lexer": "ipython3",
   "version": "3.12.2"
  }
 },
 "nbformat": 4,
 "nbformat_minor": 5
}
