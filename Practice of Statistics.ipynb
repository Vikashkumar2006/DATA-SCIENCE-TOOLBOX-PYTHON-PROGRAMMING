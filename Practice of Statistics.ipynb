{
 "cells": [
  {
   "cell_type": "markdown",
   "id": "7e767fef-f988-43d0-b319-5e1313fb3df1",
   "metadata": {},
   "source": [
    "# Statistics:\n",
    "## 1.Descriptive Statistics\n",
    "## 2.Inferential Statistics"
   ]
  },
  {
   "cell_type": "code",
   "execution_count": 4,
   "id": "262cce42-256e-405b-995f-b2d1f52b2d6b",
   "metadata": {},
   "outputs": [],
   "source": [
    "import numpy as np\n",
    "import pandas as pd\n",
    "from scipy import stats\n",
    "from statsmodels.stats.weightstats import ztest"
   ]
  },
  {
   "cell_type": "code",
   "execution_count": 5,
   "id": "e7323650-b0f6-402f-90fa-6c602b80ced2",
   "metadata": {},
   "outputs": [],
   "source": [
    "data=[23,21,25,22,24,27,23,22,23,26,24,25,22]\n",
    "df=pd.DataFrame(data,columns=['Age'])"
   ]
  },
  {
   "cell_type": "code",
   "execution_count": 6,
   "id": "f78b52ea-7975-4698-af83-a2dda60ece39",
   "metadata": {},
   "outputs": [
    {
     "data": {
      "text/plain": [
       "np.float64(23.615384615384617)"
      ]
     },
     "execution_count": 6,
     "metadata": {},
     "output_type": "execute_result"
    }
   ],
   "source": [
    "mean_value=np.mean(data)\n",
    "mean_value"
   ]
  },
  {
   "cell_type": "code",
   "execution_count": 7,
   "id": "c386bc7d-8638-4e1f-908d-16268c594b93",
   "metadata": {},
   "outputs": [
    {
     "data": {
      "text/plain": [
       "np.float64(23.0)"
      ]
     },
     "execution_count": 7,
     "metadata": {},
     "output_type": "execute_result"
    }
   ],
   "source": [
    "median_value=np.median(data)\n",
    "median_value"
   ]
  },
  {
   "cell_type": "code",
   "execution_count": 8,
   "id": "4dd50e04-6504-4002-95ec-d97f46438392",
   "metadata": {},
   "outputs": [
    {
     "data": {
      "text/plain": [
       "ModeResult(mode=np.int64(22), count=np.int64(3))"
      ]
     },
     "execution_count": 8,
     "metadata": {},
     "output_type": "execute_result"
    }
   ],
   "source": [
    "mode_value=stats.mode(data)\n",
    "mode_value"
   ]
  },
  {
   "cell_type": "code",
   "execution_count": 9,
   "id": "28efd600-8a1b-437b-b276-48d21e3a0eca",
   "metadata": {},
   "outputs": [
    {
     "data": {
      "text/plain": [
       "np.float64(1.6888075692384732)"
      ]
     },
     "execution_count": 9,
     "metadata": {},
     "output_type": "execute_result"
    }
   ],
   "source": [
    "sd=np.std(data)\n",
    "sd"
   ]
  },
  {
   "cell_type": "code",
   "execution_count": 11,
   "id": "387ea284-14d7-4c6b-b189-05b14b05ac53",
   "metadata": {},
   "outputs": [
    {
     "data": {
      "text/plain": [
       "np.float64(2.85207100591716)"
      ]
     },
     "execution_count": 11,
     "metadata": {},
     "output_type": "execute_result"
    }
   ],
   "source": [
    "variance=np.var(data)\n",
    "variance"
   ]
  },
  {
   "cell_type": "code",
   "execution_count": 12,
   "id": "83701d90-8406-4614-9081-2b43506b5d36",
   "metadata": {},
   "outputs": [
    {
     "data": {
      "text/plain": [
       "np.int64(6)"
      ]
     },
     "execution_count": 12,
     "metadata": {},
     "output_type": "execute_result"
    }
   ],
   "source": [
    "# Range =max-min\n",
    "r=np.max(data)-np.min(data)\n",
    "r"
   ]
  },
  {
   "cell_type": "code",
   "execution_count": 14,
   "id": "7e516734-5337-444a-a4ee-a552f1fb93a8",
   "metadata": {},
   "outputs": [
    {
     "name": "stdout",
     "output_type": "stream",
     "text": [
      "q1 22.0\n",
      "q2 23.0\n",
      "q3 25.0\n"
     ]
    }
   ],
   "source": [
    "quartile=np.percentile(data,[25,50,75])\n",
    "print('q1',quartile[0])\n",
    "print('q2',quartile[1])\n",
    "print('q3',quartile[2])"
   ]
  },
  {
   "cell_type": "code",
   "execution_count": 16,
   "id": "52a50e17-499e-424c-a9c3-772faab84df5",
   "metadata": {},
   "outputs": [
    {
     "data": {
      "text/plain": [
       "np.float64(0.42354669267595385)"
      ]
     },
     "execution_count": 16,
     "metadata": {},
     "output_type": "execute_result"
    }
   ],
   "source": [
    "skewness=stats.skew(data)\n",
    "skewness"
   ]
  },
  {
   "cell_type": "markdown",
   "id": "6827131d-4b33-4d24-84e7-3ff0ecc743e4",
   "metadata": {},
   "source": [
    "# Z-test"
   ]
  },
  {
   "cell_type": "code",
   "execution_count": 25,
   "id": "2cb18be0-264e-445c-8b87-5e553e334dbc",
   "metadata": {},
   "outputs": [
    {
     "name": "stdout",
     "output_type": "stream",
     "text": [
      "74.8\n"
     ]
    }
   ],
   "source": [
    "data=[70,72,75,78,79]\n",
    "population_mean=75\n",
    "population_std=10\n",
    "print(np.mean(data))"
   ]
  },
  {
   "cell_type": "code",
   "execution_count": 26,
   "id": "b8292bf6-6bec-4de6-9fe9-f44f08cf4e35",
   "metadata": {},
   "outputs": [
    {
     "data": {
      "text/plain": [
       "np.float64(0.9071434614955927)"
      ]
     },
     "execution_count": 26,
     "metadata": {},
     "output_type": "execute_result"
    }
   ],
   "source": [
    "z_stat,p_value=ztest(data,value=population_mean)\n",
    "z_stat\n",
    "p_value"
   ]
  },
  {
   "cell_type": "code",
   "execution_count": 27,
   "id": "d00935f9-6d72-4b75-a93d-d7daa9474078",
   "metadata": {},
   "outputs": [
    {
     "name": "stdout",
     "output_type": "stream",
     "text": [
      "0.9071434614955927\n",
      "Fail to reject the null hypothesis: There is no significant difference.\n"
     ]
    }
   ],
   "source": [
    "print(p_value)\n",
    "#decision based on p-value and significance level\n",
    "alpha=0.05\n",
    "if p_value<alpha:\n",
    "    print(\"Reject the null hypothesis: There is a significant difference.\")\n",
    "else:\n",
    "    print(\"Fail to reject the null hypothesis: There is no significant difference.\")"
   ]
  },
  {
   "cell_type": "code",
   "execution_count": null,
   "id": "a9401c13-1483-4989-9963-6d1ffb74eec5",
   "metadata": {},
   "outputs": [],
   "source": []
  }
 ],
 "metadata": {
  "kernelspec": {
   "display_name": "Python 3 (ipykernel)",
   "language": "python",
   "name": "python3"
  },
  "language_info": {
   "codemirror_mode": {
    "name": "ipython",
    "version": 3
   },
   "file_extension": ".py",
   "mimetype": "text/x-python",
   "name": "python",
   "nbconvert_exporter": "python",
   "pygments_lexer": "ipython3",
   "version": "3.12.2"
  }
 },
 "nbformat": 4,
 "nbformat_minor": 5
}
