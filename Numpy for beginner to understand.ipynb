{
 "cells": [
  {
   "cell_type": "markdown",
   "id": "89e6b7d5-2b95-40b0-ab94-d0ccd3fada2a",
   "metadata": {},
   "source": [
    "## Numpy Session\n",
    "### Numerical Python\n",
    "##### Learn more\n",
    "In this you are going to learn about arrays, ndarrays\n",
    "\n",
    "* np.array\n",
    "* np.shape\n",
    "* np.arange\n",
    "* np.linspace\n",
    "* np.reshape"
   ]
  },
  {
   "cell_type": "code",
   "execution_count": null,
   "id": "41b0e80e-00e6-4370-8a71-abae7cab498a",
   "metadata": {},
   "outputs": [],
   "source": [
    "INDEXING"
   ]
  },
  {
   "cell_type": "code",
   "execution_count": 1,
   "id": "f4db9f93-e8b2-42f4-9c3e-b3dc9531047e",
   "metadata": {},
   "outputs": [],
   "source": [
    "import numpy as np"
   ]
  },
  {
   "cell_type": "code",
   "execution_count": 2,
   "id": "e36e3a92-2fb0-4450-8cf3-116062734e67",
   "metadata": {},
   "outputs": [
    {
     "data": {
      "text/plain": [
       "array([ 0,  1,  2,  3,  4,  5,  6,  7,  8,  9, 10, 11, 12, 13, 14, 15])"
      ]
     },
     "execution_count": 2,
     "metadata": {},
     "output_type": "execute_result"
    }
   ],
   "source": [
    "arr1=np.arange(0,16)\n",
    "arr1"
   ]
  },
  {
   "cell_type": "code",
   "execution_count": 3,
   "id": "08cc80a8-07bd-48ec-b119-475988703ea3",
   "metadata": {},
   "outputs": [
    {
     "data": {
      "text/plain": [
       "array([0, 1, 2, 3, 4, 5, 6])"
      ]
     },
     "execution_count": 3,
     "metadata": {},
     "output_type": "execute_result"
    }
   ],
   "source": [
    "arr1[0:7]"
   ]
  },
  {
   "cell_type": "code",
   "execution_count": 4,
   "id": "577d9057-5798-490d-83c7-0cabc9b4f99e",
   "metadata": {},
   "outputs": [
    {
     "data": {
      "text/plain": [
       "array([6, 7, 8])"
      ]
     },
     "execution_count": 4,
     "metadata": {},
     "output_type": "execute_result"
    }
   ],
   "source": [
    "arr1[6:9]"
   ]
  },
  {
   "cell_type": "code",
   "execution_count": 5,
   "id": "c7c85ecc-d726-4c34-80e7-0abfe7a4e8b6",
   "metadata": {},
   "outputs": [
    {
     "data": {
      "text/plain": [
       "array([[ 0,  1,  2,  3],\n",
       "       [ 4,  5,  6,  7],\n",
       "       [ 8,  9, 10, 11],\n",
       "       [12, 13, 14, 15]])"
      ]
     },
     "execution_count": 5,
     "metadata": {},
     "output_type": "execute_result"
    }
   ],
   "source": [
    "a1=arr1.reshape(4,4)\n",
    "a1"
   ]
  },
  {
   "cell_type": "code",
   "execution_count": 6,
   "id": "cb70c2c1-0913-4013-8454-982f992c0f0d",
   "metadata": {},
   "outputs": [
    {
     "data": {
      "text/plain": [
       "array([[ 4,  5,  6],\n",
       "       [ 8,  9, 10]])"
      ]
     },
     "execution_count": 6,
     "metadata": {},
     "output_type": "execute_result"
    }
   ],
   "source": [
    "a1[1:3,0:3]"
   ]
  },
  {
   "cell_type": "code",
   "execution_count": 9,
   "id": "8b3e5ec4-e3ec-4ed5-b7e7-14a764d988d8",
   "metadata": {},
   "outputs": [
    {
     "data": {
      "text/plain": [
       "array([[ 0],\n",
       "       [ 4],\n",
       "       [ 8],\n",
       "       [12]])"
      ]
     },
     "execution_count": 9,
     "metadata": {},
     "output_type": "execute_result"
    }
   ],
   "source": [
    "a1[0:4,0].reshape(4,1)"
   ]
  },
  {
   "cell_type": "code",
   "execution_count": 13,
   "id": "787ad671-15d4-4fb1-823f-a29bd636b33c",
   "metadata": {},
   "outputs": [
    {
     "data": {
      "text/plain": [
       "array([[ 8,  9, 10, 11],\n",
       "       [12, 13, 14, 15]])"
      ]
     },
     "execution_count": 13,
     "metadata": {},
     "output_type": "execute_result"
    }
   ],
   "source": [
    "a1[2:4,0:4]"
   ]
  },
  {
   "cell_type": "code",
   "execution_count": 12,
   "id": "b5358dac-5b61-46e3-9d23-4751c16d4302",
   "metadata": {},
   "outputs": [
    {
     "data": {
      "text/plain": [
       "array([[ 8,  9],\n",
       "       [10, 11],\n",
       "       [12, 13],\n",
       "       [14, 15]])"
      ]
     },
     "execution_count": 12,
     "metadata": {},
     "output_type": "execute_result"
    }
   ],
   "source": [
    "a1[2:4,0:4].reshape(4,2)  #here we want"
   ]
  },
  {
   "cell_type": "markdown",
   "id": "17cd5964-7de1-40a3-b4b5-4b71eae429a7",
   "metadata": {},
   "source": [
    "## Vectorization\n"
   ]
  },
  {
   "cell_type": "code",
   "execution_count": 19,
   "id": "994791c8-5388-4910-9361-d765833d81b3",
   "metadata": {},
   "outputs": [
    {
     "data": {
      "text/plain": [
       "array([ 0,  2,  4,  6,  8, 10])"
      ]
     },
     "execution_count": 19,
     "metadata": {},
     "output_type": "execute_result"
    }
   ],
   "source": [
    "a1=np.arange(0,12,2)\n",
    "a1"
   ]
  },
  {
   "cell_type": "code",
   "execution_count": 20,
   "id": "e7e8bcad-5bc6-4c1f-bec7-316506cccb48",
   "metadata": {},
   "outputs": [
    {
     "data": {
      "text/plain": [
       "array([ 0,  4,  8, 12, 16, 20])"
      ]
     },
     "execution_count": 20,
     "metadata": {},
     "output_type": "execute_result"
    }
   ],
   "source": [
    "a1*2"
   ]
  },
  {
   "cell_type": "code",
   "execution_count": 21,
   "id": "76078095-d987-43e4-94f2-b6effc29edb9",
   "metadata": {},
   "outputs": [
    {
     "data": {
      "text/plain": [
       "array([0., 1., 2., 3., 4., 5.])"
      ]
     },
     "execution_count": 21,
     "metadata": {},
     "output_type": "execute_result"
    }
   ],
   "source": [
    "a1/2"
   ]
  },
  {
   "cell_type": "markdown",
   "id": "2b7aa180-1c58-41ea-aec3-d1bce644687f",
   "metadata": {},
   "source": [
    "### linspace(start_index,end_index,element)"
   ]
  },
  {
   "cell_type": "code",
   "execution_count": 1,
   "id": "79e3a711-6371-4e17-a392-29b41b34b9ea",
   "metadata": {},
   "outputs": [],
   "source": [
    "import numpy as np"
   ]
  },
  {
   "cell_type": "code",
   "execution_count": 2,
   "id": "ae544882-707f-4c05-97af-fab0f738e694",
   "metadata": {},
   "outputs": [
    {
     "data": {
      "text/plain": [
       "array([ 0,  1,  2,  3,  4,  5,  6,  7,  8,  9, 10, 11, 12, 13, 14, 15])"
      ]
     },
     "execution_count": 2,
     "metadata": {},
     "output_type": "execute_result"
    }
   ],
   "source": [
    "arr1=np.arange(0,16)\n",
    "arr1"
   ]
  },
  {
   "cell_type": "code",
   "execution_count": 4,
   "id": "4b4e3b09-6ecd-4ff9-a9eb-152fd0b27886",
   "metadata": {},
   "outputs": [
    {
     "name": "stdout",
     "output_type": "stream",
     "text": [
      "[ 1.          1.18367347  1.36734694  1.55102041  1.73469388  1.91836735\n",
      "  2.10204082  2.28571429  2.46938776  2.65306122  2.83673469  3.02040816\n",
      "  3.20408163  3.3877551   3.57142857  3.75510204  3.93877551  4.12244898\n",
      "  4.30612245  4.48979592  4.67346939  4.85714286  5.04081633  5.2244898\n",
      "  5.40816327  5.59183673  5.7755102   5.95918367  6.14285714  6.32653061\n",
      "  6.51020408  6.69387755  6.87755102  7.06122449  7.24489796  7.42857143\n",
      "  7.6122449   7.79591837  7.97959184  8.16326531  8.34693878  8.53061224\n",
      "  8.71428571  8.89795918  9.08163265  9.26530612  9.44897959  9.63265306\n",
      "  9.81632653 10.        ]\n"
     ]
    }
   ],
   "source": [
    "a=np.linspace(1,10,50)\n",
    "print(a)"
   ]
  },
  {
   "cell_type": "code",
   "execution_count": 6,
   "id": "cfb9ca0b-dc9a-4a2f-ac41-37c689d8f915",
   "metadata": {},
   "outputs": [
    {
     "name": "stdout",
     "output_type": "stream",
     "text": [
      "[ 1  1  1  1  1  1  2  2  2  2  2  3  3  3  3  3  3  4  4  4  4  4  5  5\n",
      "  5  5  5  5  6  6  6  6  6  7  7  7  7  7  7  8  8  8  8  8  9  9  9  9\n",
      "  9 10]\n"
     ]
    }
   ],
   "source": [
    "a=np.linspace(1,10,50,dtype=\"int\") #evenly create 50 elements within 1 to 10\n",
    "print(a)"
   ]
  },
  {
   "cell_type": "code",
   "execution_count": 7,
   "id": "307313f6-91ef-4dde-9ae8-8ca0b41ab3bf",
   "metadata": {},
   "outputs": [
    {
     "name": "stdout",
     "output_type": "stream",
     "text": [
      "[ 1.          1.18367347  1.36734694  1.55102041  1.73469388  1.91836735\n",
      "  2.10204082  2.28571429  2.46938776  2.65306122  2.83673469  3.02040816\n",
      "  3.20408163  3.3877551   3.57142857  3.75510204  3.93877551  4.12244898\n",
      "  4.30612245  4.48979592  4.67346939  4.85714286  5.04081633  5.2244898\n",
      "  5.40816327  5.59183673  5.7755102   5.95918367  6.14285714  6.32653061\n",
      "  6.51020408  6.69387755  6.87755102  7.06122449  7.24489796  7.42857143\n",
      "  7.6122449   7.79591837  7.97959184  8.16326531  8.34693878  8.53061224\n",
      "  8.71428571  8.89795918  9.08163265  9.26530612  9.44897959  9.63265306\n",
      "  9.81632653 10.        ]\n"
     ]
    }
   ],
   "source": [
    "a=np.linspace(1,10,50,dtype=\"float\")\n",
    "print(a)"
   ]
  },
  {
   "cell_type": "markdown",
   "id": "69dc568f-66e5-4521-ae33-93553935a9a7",
   "metadata": {},
   "source": [
    "### np.ones, np.zeroes and np.eye"
   ]
  },
  {
   "cell_type": "code",
   "execution_count": 8,
   "id": "ad7f06ed-dacb-4752-bd80-d18e8f6a6d62",
   "metadata": {},
   "outputs": [
    {
     "name": "stdout",
     "output_type": "stream",
     "text": [
      "[[0. 0. 0.]\n",
      " [0. 0. 0.]\n",
      " [0. 0. 0.]]\n"
     ]
    }
   ],
   "source": [
    "a=np.zeros((3,3))\n",
    "print(a)"
   ]
  },
  {
   "cell_type": "code",
   "execution_count": 9,
   "id": "4418b901-b05b-47ac-a4f9-a0a3fc808f79",
   "metadata": {},
   "outputs": [
    {
     "name": "stdout",
     "output_type": "stream",
     "text": [
      "[[1. 1. 1. 1.]\n",
      " [1. 1. 1. 1.]\n",
      " [1. 1. 1. 1.]]\n"
     ]
    }
   ],
   "source": [
    "b=np.ones((3,4))\n",
    "print(b)"
   ]
  },
  {
   "cell_type": "code",
   "execution_count": 10,
   "id": "25c2a844-98d4-4aa3-94a0-48020841dde0",
   "metadata": {},
   "outputs": [
    {
     "name": "stdout",
     "output_type": "stream",
     "text": [
      "[[1. 0. 0.]\n",
      " [0. 1. 0.]\n",
      " [0. 0. 1.]]\n"
     ]
    }
   ],
   "source": [
    "c=np.eye((3))\n",
    "print(c)"
   ]
  },
  {
   "cell_type": "code",
   "execution_count": 12,
   "id": "f6da3516-0699-4632-82a7-4d87c81b6009",
   "metadata": {},
   "outputs": [
    {
     "name": "stdout",
     "output_type": "stream",
     "text": [
      "[[0. 0. 0.]\n",
      " [0. 0. 0.]\n",
      " [0. 0. 0.]]\n"
     ]
    }
   ],
   "source": [
    "a=np.zeros((3,3))\n",
    "print(a)"
   ]
  },
  {
   "cell_type": "markdown",
   "id": "492d61fd-918d-45dd-afa1-02c4cce22bfb",
   "metadata": {},
   "source": [
    "## Aggregate functions in Numpy min,max,mean,stdev"
   ]
  },
  {
   "cell_type": "code",
   "execution_count": 13,
   "id": "fdbbf59f-a72d-459e-98bf-dcdcf83920cb",
   "metadata": {},
   "outputs": [
    {
     "name": "stdout",
     "output_type": "stream",
     "text": [
      "61.0\n"
     ]
    }
   ],
   "source": [
    "data=np.array([12,45,98,100,50])\n",
    "mean1=np.mean(data)\n",
    "print(mean1)"
   ]
  },
  {
   "cell_type": "code",
   "execution_count": 14,
   "id": "6a3a4288-6dcc-4adc-bb76-871c22f2281f",
   "metadata": {},
   "outputs": [
    {
     "name": "stdout",
     "output_type": "stream",
     "text": [
      "12\n",
      "100\n",
      "33.668976818430345\n",
      "305\n"
     ]
    }
   ],
   "source": [
    "min_val=np.min(data)\n",
    "max_val=np.max(data)\n",
    "stdev=np.std(data)\n",
    "sum1=np.sum(data)\n",
    "print(min_val)\n",
    "print(max_val)\n",
    "print(stdev)\n",
    "print(sum1)"
   ]
  },
  {
   "cell_type": "markdown",
   "id": "8bdf3fcb-aa3b-452c-8f8b-86400d6d7eca",
   "metadata": {},
   "source": [
    "##   78 80 90 70 45     mean of 1 row\n",
    "##   30 24 50 68 53     mean of 2 row\n",
    "##   90 92 87 95 99     mean of 3 row"
   ]
  },
  {
   "cell_type": "code",
   "execution_count": 23,
   "id": "15a1760e-ac3d-4617-a50b-339baa73146d",
   "metadata": {},
   "outputs": [
    {
     "name": "stdout",
     "output_type": "stream",
     "text": [
      "[72.6 45.  92.6]\n"
     ]
    }
   ],
   "source": [
    "a=np.array([[78,80,90,70,45],[30,24,50,68,53],[90,92,87,95,99]])\n",
    "arr1=a.reshape((3,5))\n",
    "arr2=arr1.mean(axis=1)\n",
    "print(arr2)"
   ]
  },
  {
   "cell_type": "code",
   "execution_count": 21,
   "id": "6fd1f567-3a16-428a-8667-f34892aacfa0",
   "metadata": {},
   "outputs": [
    {
     "name": "stdout",
     "output_type": "stream",
     "text": [
      "72.6\n",
      "45.0\n",
      "92.6\n"
     ]
    }
   ],
   "source": [
    "a=np.array([[78,80,90,70,45],[30,24,50,68,53],[90,92,87,95,99]])\n",
    "mean=0\n",
    "for i in a:\n",
    "    mean=np.mean((i))\n",
    "    print(mean)"
   ]
  },
  {
   "cell_type": "markdown",
   "id": "78031a6f-e7cb-4df9-a7a0-577284af1749",
   "metadata": {},
   "source": [
    "## np.where: conditional just like if\n",
    "## syntax: np.where(condition,value_if_true,value_if_false)"
   ]
  },
  {
   "cell_type": "code",
   "execution_count": 26,
   "id": "9bb0ebf3-5055-4711-abad-87c7ee8bdbcf",
   "metadata": {},
   "outputs": [
    {
     "name": "stdout",
     "output_type": "stream",
     "text": [
      "['Good' 'Good' 'Good' 'Good' 'Good' 'Work Hard' 'Work Hard' 'Work Hard']\n",
      "<class 'numpy.ndarray'>\n"
     ]
    }
   ],
   "source": [
    "marks=np.array([78,90,89,90,88,30,24,34])\n",
    "morethan50=np.where(marks>50,\"Good\",\"Work Hard\")\n",
    "print(morethan50)\n",
    "print(type(morethan50))"
   ]
  },
  {
   "cell_type": "code",
   "execution_count": 28,
   "id": "c8828949-30e8-43ee-a927-1f6ac04e9f7e",
   "metadata": {},
   "outputs": [
    {
     "name": "stdout",
     "output_type": "stream",
     "text": [
      "[78 90 89 90 88  0 24 34  0]\n"
     ]
    }
   ],
   "source": [
    "marks=np.array([78,90,89,90,88,-30,24,34,-10])\n",
    "#you have to replace negative marks with 0\n",
    "negativemark=np.where(marks<0,0,marks)\n",
    "print(negativemark)"
   ]
  },
  {
   "cell_type": "code",
   "execution_count": 3,
   "id": "1070b6a0-21d2-4519-9d95-9b30d42db747",
   "metadata": {},
   "outputs": [
    {
     "name": "stdout",
     "output_type": "stream",
     "text": [
      "['black' 'blue' 'red']\n"
     ]
    }
   ],
   "source": [
    "##dealing with duplicate values\n",
    "import numpy as np\n",
    "colors=np.array(['red','blue','black','red','red','red'])\n",
    "unique_colors=np.unique(colors)\n",
    "print(unique_colors)\n"
   ]
  },
  {
   "cell_type": "markdown",
   "id": "29d06665-7eb8-4f42-b972-b70ce48cba3d",
   "metadata": {},
   "source": [
    "#  dealing with missing values np.nan"
   ]
  },
  {
   "cell_type": "code",
   "execution_count": 6,
   "id": "9f99229f-efa2-4107-a470-0b349460ff71",
   "metadata": {},
   "outputs": [
    {
     "name": "stdout",
     "output_type": "stream",
     "text": [
      "48.7475\n",
      "[45.6    46.8    56.7    48.7475 48.7475 45.89  ]\n"
     ]
    }
   ],
   "source": [
    "price=np.array([45.60,46.80,56.70,np.nan,np.nan,45.89])\n",
    "p_mean=np.nanmean(price)\n",
    "print(p_mean)\n",
    "final_price=np.where(np.isnan(price),p_mean,price)\n",
    "print(final_price)"
   ]
  },
  {
   "cell_type": "code",
   "execution_count": 7,
   "id": "36ffc94f-df85-471b-82dd-d52198318458",
   "metadata": {},
   "outputs": [
    {
     "name": "stdout",
     "output_type": "stream",
     "text": [
      "212.75\n"
     ]
    }
   ],
   "source": [
    "price=np.array([45,98,54,np.nan,np.nan,np.nan,654])\n",
    "p_mean=np.nanmean(price)\n",
    "print(p_mean)\n",
    "fina"
   ]
  },
  {
   "cell_type": "markdown",
   "id": "59225cdf-8aba-4283-812b-0741d3f357d1",
   "metadata": {},
   "source": [
    "# Joining Arrays\n",
    "using vstack,hstack,row_stack,column_stack"
   ]
  },
  {
   "cell_type": "code",
   "execution_count": 13,
   "id": "3c711592-2be8-4653-bea4-0b235189b638",
   "metadata": {},
   "outputs": [
    {
     "name": "stdout",
     "output_type": "stream",
     "text": [
      "[[ 0  1  2  3]\n",
      " [ 4  5  6  7]\n",
      " [ 8  9 10 11]\n",
      " [12 13 14 15]\n",
      " [16 17 18 19]\n",
      " [20 21 22 23]\n",
      " [24 25 26 27]\n",
      " [28 29 30 31]]\n",
      "[[ 0  1  2  3 16 17 18 19]\n",
      " [ 4  5  6  7 20 21 22 23]\n",
      " [ 8  9 10 11 24 25 26 27]\n",
      " [12 13 14 15 28 29 30 31]]\n"
     ]
    }
   ],
   "source": [
    "a1=np.arange(0,16).reshape(4,4)\n",
    "a2=np.arange(16,32).reshape(4,4)\n",
    "merged_array=np.vstack((a1,a2))#it takes only argument so we have to pass tuple\n",
    "print(merged_array)\n",
    "merged_array1=np.hstack((a1,a2))\n",
    "print(merged_array1)"
   ]
  },
  {
   "cell_type": "code",
   "execution_count": 19,
   "id": "bcbb5d68-d217-40ef-a63d-289ce9e55132",
   "metadata": {},
   "outputs": [
    {
     "name": "stdout",
     "output_type": "stream",
     "text": [
      "[[ 0  1  2  3]\n",
      " [ 4  5  6  7]\n",
      " [ 8  9 10 11]\n",
      " [12 13 14 15]\n",
      " [16 17 18 19]\n",
      " [20 21 22 23]\n",
      " [24 25 26 27]\n",
      " [28 29 30 31]\n",
      " [32 33 34 35]\n",
      " [36 37 38 39]\n",
      " [40 41 42 43]\n",
      " [44 45 46 47]]\n",
      "[[ 0  1  2  3 16 17 18 19 32 33 34 35]\n",
      " [ 4  5  6  7 20 21 22 23 36 37 38 39]\n",
      " [ 8  9 10 11 24 25 26 27 40 41 42 43]\n",
      " [12 13 14 15 28 29 30 31 44 45 46 47]]\n"
     ]
    }
   ],
   "source": [
    "#create one dimentional\n",
    "a1=np.arange(0,16).reshape(4,4)\n",
    "a2=np.arange(16,32).reshape(4,4)\n",
    "a3=np.arange(32,48).reshape(4,4)\n",
    "merged_array=np.vstack((a1,a2,a3))\n",
    "print(merged_array)\n",
    "merged_array2=np.hstack((a1,a2,a3))\n",
    "print(merged_array2)"
   ]
  },
  {
   "cell_type": "code",
   "execution_count": 18,
   "id": "13a964c0-cd72-472f-b2fe-04c5add09d59",
   "metadata": {},
   "outputs": [
    {
     "name": "stdout",
     "output_type": "stream",
     "text": [
      "[[  0   1   2   3   4   5   6   7]\n",
      " [  8   9  10  11  12  13  14  15]\n",
      " [ 89  90  91  92  92 100 101  12]]\n",
      "[[  0   8  89]\n",
      " [  1   9  90]\n",
      " [  2  10  91]\n",
      " [  3  11  92]\n",
      " [  4  12  92]\n",
      " [  5  13 100]\n",
      " [  6  14 101]\n",
      " [  7  15  12]]\n"
     ]
    },
    {
     "name": "stderr",
     "output_type": "stream",
     "text": [
      "C:\\Users\\Vikash Singh\\AppData\\Local\\Temp\\ipykernel_10896\\2660711190.py:5: DeprecationWarning: `row_stack` alias is deprecated. Use `np.vstack` directly.\n",
      "  m1=np.row_stack((a1,a2,a3))\n"
     ]
    }
   ],
   "source": [
    "# row stack and column stack\n",
    "a1=np.arange(0,8)\n",
    "a2=np.arange(8,16)\n",
    "a3=np.array([89,90,91,92,92,100,101,12])\n",
    "m1=np.row_stack((a1,a2,a3))\n",
    "m2=np.column_stack((a1,a2,a3))\n",
    "print(m1)\n",
    "print(m2)"
   ]
  },
  {
   "cell_type": "markdown",
   "id": "67f403c7-b57a-4972-a424-ed3edfd725ea",
   "metadata": {},
   "source": [
    "# spliting dataset"
   ]
  },
  {
   "cell_type": "code",
   "execution_count": 26,
   "id": "9a2df209-7a35-4fc8-8c40-3e183dd8a499",
   "metadata": {},
   "outputs": [
    {
     "name": "stdout",
     "output_type": "stream",
     "text": [
      "[[ 0  1]\n",
      " [ 4  5]\n",
      " [ 8  9]\n",
      " [12 13]\n",
      " [16 17]\n",
      " [20 21]\n",
      " [24 25]\n",
      " [28 29]\n",
      " [32 33]\n",
      " [36 37]\n",
      " [40 41]\n",
      " [44 45]]\n",
      "[[ 2  3]\n",
      " [ 6  7]\n",
      " [10 11]\n",
      " [14 15]\n",
      " [18 19]\n",
      " [22 23]\n",
      " [26 27]\n",
      " [30 31]\n",
      " [34 35]\n",
      " [38 39]\n",
      " [42 43]\n",
      " [46 47]]\n",
      "[[ 0  1  2  3]\n",
      " [ 4  5  6  7]\n",
      " [ 8  9 10 11]\n",
      " [12 13 14 15]\n",
      " [16 17 18 19]\n",
      " [20 21 22 23]]\n",
      "[[24 25 26 27]\n",
      " [28 29 30 31]\n",
      " [32 33 34 35]\n",
      " [36 37 38 39]\n",
      " [40 41 42 43]\n",
      " [44 45 46 47]]\n"
     ]
    }
   ],
   "source": [
    "(s1,s2)=np.hsplit(merged_array,2)\n",
    "print(s1)\n",
    "print(s2)\n",
    "(s1,s2)=np.vsplit(merged_array,2)\n",
    "print(s1)\n",
    "print(s2)"
   ]
  },
  {
   "cell_type": "code",
   "execution_count": null,
   "id": "41dba0f0-9327-46e0-9c70-afb17d6b6eef",
   "metadata": {},
   "outputs": [],
   "source": []
  }
 ],
 "metadata": {
  "kernelspec": {
   "display_name": "Python 3 (ipykernel)",
   "language": "python",
   "name": "python3"
  },
  "language_info": {
   "codemirror_mode": {
    "name": "ipython",
    "version": 3
   },
   "file_extension": ".py",
   "mimetype": "text/x-python",
   "name": "python",
   "nbconvert_exporter": "python",
   "pygments_lexer": "ipython3",
   "version": "3.12.2"
  }
 },
 "nbformat": 4,
 "nbformat_minor": 5
}
